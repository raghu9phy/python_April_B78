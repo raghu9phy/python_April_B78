{
 "cells": [
  {
   "cell_type": "code",
   "execution_count": 4,
   "id": "9091af2b",
   "metadata": {},
   "outputs": [
    {
     "name": "stdout",
     "output_type": "stream",
     "text": [
      "Raghu is GOODBOY\n"
     ]
    }
   ],
   "source": [
    "print(\"Raghu is GOODBOY\")"
   ]
  },
  {
   "cell_type": "code",
   "execution_count": 7,
   "id": "f8ec77ec",
   "metadata": {},
   "outputs": [
    {
     "name": "stdout",
     "output_type": "stream",
     "text": [
      "aihindh\n"
     ]
    }
   ],
   "source": [
    "print('jaihindh')"
   ]
  },
  {
   "cell_type": "code",
   "execution_count": 9,
   "id": "552ee46b",
   "metadata": {},
   "outputs": [],
   "source": [
    "iNTRODUCTION TO PYTHON PROGRAMMINF\n"
   ]
  },
  {
   "cell_type": "code",
   "execution_count": null,
   "id": "918b67a7",
   "metadata": {},
   "outputs": [],
   "source": [
    "#uNDERSTAND THE VARIABLES IN PYTHON\n"
   ]
  },
  {
   "cell_type": "code",
   "execution_count": 11,
   "id": "2e162e1e",
   "metadata": {},
   "outputs": [
    {
     "name": "stdout",
     "output_type": "stream",
     "text": [
      "5\n"
     ]
    }
   ],
   "source": [
    "X=3\n",
    "Y=2\n",
    "\n",
    "Z=X+Y\n",
    "print(Z)"
   ]
  },
  {
   "cell_type": "code",
   "execution_count": null,
   "id": "9dd5a1f9",
   "metadata": {},
   "outputs": [],
   "source": [
    "Rules for declaring variabled in python\n"
   ]
  },
  {
   "cell_type": "code",
   "execution_count": null,
   "id": "ef46c9a1",
   "metadata": {},
   "outputs": [],
   "source": [
    "Rule 1:  No name spaces while declaring the variable name"
   ]
  },
  {
   "cell_type": "code",
   "execution_count": 12,
   "id": "e273eddf",
   "metadata": {},
   "outputs": [
    {
     "ename": "SyntaxError",
     "evalue": "invalid syntax (3374322904.py, line 1)",
     "output_type": "error",
     "traceback": [
      "\u001b[1;36m  Cell \u001b[1;32mIn[12], line 1\u001b[1;36m\u001b[0m\n\u001b[1;33m    first name='raghu'\u001b[0m\n\u001b[1;37m          ^\u001b[0m\n\u001b[1;31mSyntaxError\u001b[0m\u001b[1;31m:\u001b[0m invalid syntax\n"
     ]
    }
   ],
   "source": [
    "first name='raghu'\n",
    "print(first name)"
   ]
  },
  {
   "cell_type": "code",
   "execution_count": 13,
   "id": "a586c5c7",
   "metadata": {},
   "outputs": [
    {
     "name": "stdout",
     "output_type": "stream",
     "text": [
      "raghu\n"
     ]
    }
   ],
   "source": [
    "firstname='raghu'\n",
    "print(firstname)"
   ]
  },
  {
   "cell_type": "code",
   "execution_count": null,
   "id": "64310479",
   "metadata": {},
   "outputs": [],
   "source": [
    "Rule no: 2  Variable name should not with number**\n",
    "    "
   ]
  },
  {
   "cell_type": "code",
   "execution_count": 14,
   "id": "2e7714b4",
   "metadata": {},
   "outputs": [
    {
     "ename": "SyntaxError",
     "evalue": "invalid decimal literal (579330736.py, line 1)",
     "output_type": "error",
     "traceback": [
      "\u001b[1;36m  Cell \u001b[1;32mIn[14], line 1\u001b[1;36m\u001b[0m\n\u001b[1;33m    1name='Naveen'\u001b[0m\n\u001b[1;37m    ^\u001b[0m\n\u001b[1;31mSyntaxError\u001b[0m\u001b[1;31m:\u001b[0m invalid decimal literal\n"
     ]
    }
   ],
   "source": [
    "1name='Naveen'\n",
    "print(iname)"
   ]
  },
  {
   "cell_type": "code",
   "execution_count": 15,
   "id": "91130bd4",
   "metadata": {},
   "outputs": [
    {
     "name": "stdout",
     "output_type": "stream",
     "text": [
      "Naveen\n"
     ]
    }
   ],
   "source": [
    "name1='Naveen'\n",
    "print(name1)"
   ]
  },
  {
   "cell_type": "code",
   "execution_count": null,
   "id": "d7227328",
   "metadata": {},
   "outputs": [],
   "source": [
    "Rule No: 3--Variable name should not contain any special charcters\n",
    "    @#$&\n",
    "    "
   ]
  },
  {
   "cell_type": "code",
   "execution_count": 16,
   "id": "37390430",
   "metadata": {},
   "outputs": [
    {
     "ename": "SyntaxError",
     "evalue": "invalid syntax. Maybe you meant '==' or ':=' instead of '='? (247143476.py, line 1)",
     "output_type": "error",
     "traceback": [
      "\u001b[1;36m  Cell \u001b[1;32mIn[16], line 1\u001b[1;36m\u001b[0m\n\u001b[1;33m    @name='Naveen'\u001b[0m\n\u001b[1;37m     ^\u001b[0m\n\u001b[1;31mSyntaxError\u001b[0m\u001b[1;31m:\u001b[0m invalid syntax. Maybe you meant '==' or ':=' instead of '='?\n"
     ]
    }
   ],
   "source": [
    "@name='Naveen'\n",
    "print(@name)"
   ]
  },
  {
   "cell_type": "code",
   "execution_count": null,
   "id": "858951d0",
   "metadata": {},
   "outputs": [],
   "source": [
    "Intraduction to data types in python"
   ]
  },
  {
   "cell_type": "code",
   "execution_count": null,
   "id": "f419673e",
   "metadata": {},
   "outputs": [],
   "source": [
    "1. String----------STR\n",
    "2.Number---Integers and Float(Decimals) \n",
    "3.List\n",
    "4.Tuple\n",
    "5. dictionaries--------dict\n"
   ]
  },
  {
   "cell_type": "code",
   "execution_count": null,
   "id": "06528de2",
   "metadata": {},
   "outputs": [],
   "source": [
    "classfication of data types"
   ]
  },
  {
   "cell_type": "code",
   "execution_count": null,
   "id": "1ac36ee6",
   "metadata": {},
   "outputs": [],
   "source": [
    "1. Mutable datatypes---------Which we can edit and alter---Flexible in nature\n",
    "2.Immutable datatypes---Which we cannot be able to edit or alter---Fixed in nature"
   ]
  },
  {
   "cell_type": "code",
   "execution_count": null,
   "id": "979a7401",
   "metadata": {},
   "outputs": [],
   "source": []
  },
  {
   "cell_type": "code",
   "execution_count": null,
   "id": "ce2976c5",
   "metadata": {},
   "outputs": [],
   "source": [
    "Intraduction to string datatype.\n",
    "\n",
    "Defination : A string is a series of charcters declared in quotes"
   ]
  },
  {
   "cell_type": "code",
   "execution_count": null,
   "id": "6316502f",
   "metadata": {},
   "outputs": [],
   "source": [
    "classfication: it is an immutable datatype"
   ]
  },
  {
   "cell_type": "code",
   "execution_count": null,
   "id": "a2ae123b",
   "metadata": {},
   "outputs": [],
   "source": [
    "how to declare the string datatype---Single quote or using docuble quite"
   ]
  },
  {
   "cell_type": "code",
   "execution_count": 17,
   "id": "cf7d0e1c",
   "metadata": {},
   "outputs": [
    {
     "name": "stdout",
     "output_type": "stream",
     "text": [
      "raghu\n"
     ]
    }
   ],
   "source": [
    "name='raghu'\n",
    "print(name)"
   ]
  },
  {
   "cell_type": "code",
   "execution_count": 20,
   "id": "3e055525",
   "metadata": {},
   "outputs": [
    {
     "name": "stdout",
     "output_type": "stream",
     "text": [
      "ravi\n"
     ]
    }
   ],
   "source": [
    "name1=\"ravi\"\n",
    "print(name1)"
   ]
  },
  {
   "cell_type": "code",
   "execution_count": null,
   "id": "cc5fc7a7",
   "metadata": {},
   "outputs": [],
   "source": [
    "Intraduction to string methods : built in programs available in pythos\n",
    "\n"
   ]
  },
  {
   "cell_type": "code",
   "execution_count": 21,
   "id": "2e6d0ca1",
   "metadata": {},
   "outputs": [
    {
     "data": {
      "text/plain": [
       "str"
      ]
     },
     "execution_count": 21,
     "metadata": {},
     "output_type": "execute_result"
    }
   ],
   "source": [
    "type(name)"
   ]
  },
  {
   "cell_type": "code",
   "execution_count": 26,
   "id": "6285c8c8",
   "metadata": {},
   "outputs": [
    {
     "name": "stdout",
     "output_type": "stream",
     "text": [
      "2323\n"
     ]
    }
   ],
   "source": [
    "name1=2323\n",
    "print(name1)"
   ]
  },
  {
   "cell_type": "code",
   "execution_count": 27,
   "id": "475fe17b",
   "metadata": {},
   "outputs": [
    {
     "data": {
      "text/plain": [
       "int"
      ]
     },
     "execution_count": 27,
     "metadata": {},
     "output_type": "execute_result"
    }
   ],
   "source": [
    "type(name1)"
   ]
  },
  {
   "cell_type": "code",
   "execution_count": 29,
   "id": "e2af16ff",
   "metadata": {},
   "outputs": [
    {
     "name": "stdout",
     "output_type": "stream",
     "text": [
      "Busireddy Raghunadhareddy\n"
     ]
    }
   ],
   "source": [
    "name1='busireddy Raghunadhareddy'\n",
    "print(name1)"
   ]
  },
  {
   "cell_type": "code",
   "execution_count": null,
   "id": "984a0ff5",
   "metadata": {},
   "outputs": [],
   "source": [
    "# Req: correcting the format:"
   ]
  },
  {
   "cell_type": "code",
   "execution_count": 30,
   "id": "19247298",
   "metadata": {},
   "outputs": [
    {
     "name": "stdout",
     "output_type": "stream",
     "text": [
      "Busireddy Raghunadhareddy\n"
     ]
    }
   ],
   "source": [
    "print(name1.title())"
   ]
  },
  {
   "cell_type": "code",
   "execution_count": null,
   "id": "d9855b24",
   "metadata": {},
   "outputs": [],
   "source": [
    "# Req: I want name should display in upper case letters..........:"
   ]
  },
  {
   "cell_type": "code",
   "execution_count": 33,
   "id": "2ce8d2f6",
   "metadata": {},
   "outputs": [
    {
     "name": "stdout",
     "output_type": "stream",
     "text": [
      "BUSIREDDY RAGHUNADHAREDDY\n"
     ]
    }
   ],
   "source": [
    "print(name1.upper())"
   ]
  },
  {
   "cell_type": "code",
   "execution_count": 35,
   "id": "87e91519",
   "metadata": {},
   "outputs": [],
   "source": [
    "# Req: I want name should display in lower case letters..........:"
   ]
  },
  {
   "cell_type": "code",
   "execution_count": 34,
   "id": "95d44407",
   "metadata": {},
   "outputs": [
    {
     "name": "stdout",
     "output_type": "stream",
     "text": [
      "busireddy raghunadhareddy\n"
     ]
    }
   ],
   "source": [
    "print(name1.lower())"
   ]
  },
  {
   "cell_type": "code",
   "execution_count": null,
   "id": "6a882573",
   "metadata": {},
   "outputs": [],
   "source": []
  },
  {
   "cell_type": "code",
   "execution_count": null,
   "id": "2db05426",
   "metadata": {},
   "outputs": [],
   "source": []
  },
  {
   "cell_type": "code",
   "execution_count": null,
   "id": "d6d5430a",
   "metadata": {},
   "outputs": [],
   "source": []
  },
  {
   "cell_type": "code",
   "execution_count": null,
   "id": "2ea3d0d2",
   "metadata": {},
   "outputs": [],
   "source": []
  },
  {
   "cell_type": "code",
   "execution_count": null,
   "id": "19e5ee59",
   "metadata": {},
   "outputs": [],
   "source": []
  },
  {
   "cell_type": "code",
   "execution_count": null,
   "id": "43c56505",
   "metadata": {},
   "outputs": [],
   "source": []
  },
  {
   "cell_type": "code",
   "execution_count": null,
   "id": "803a1864",
   "metadata": {},
   "outputs": [],
   "source": []
  },
  {
   "cell_type": "code",
   "execution_count": null,
   "id": "6251b8ce",
   "metadata": {},
   "outputs": [],
   "source": []
  },
  {
   "cell_type": "code",
   "execution_count": null,
   "id": "73b4063a",
   "metadata": {},
   "outputs": [],
   "source": []
  },
  {
   "cell_type": "code",
   "execution_count": null,
   "id": "8ec59bd7",
   "metadata": {},
   "outputs": [],
   "source": []
  },
  {
   "cell_type": "code",
   "execution_count": null,
   "id": "7c1d1663",
   "metadata": {},
   "outputs": [],
   "source": []
  }
 ],
 "metadata": {
  "kernelspec": {
   "display_name": "Python 3 (ipykernel)",
   "language": "python",
   "name": "python3"
  },
  "language_info": {
   "codemirror_mode": {
    "name": "ipython",
    "version": 3
   },
   "file_extension": ".py",
   "mimetype": "text/x-python",
   "name": "python",
   "nbconvert_exporter": "python",
   "pygments_lexer": "ipython3",
   "version": "3.10.9"
  }
 },
 "nbformat": 4,
 "nbformat_minor": 5
}
